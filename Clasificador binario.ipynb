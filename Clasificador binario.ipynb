{
 "cells": [
  {
   "cell_type": "code",
   "execution_count": 2,
   "metadata": {},
   "outputs": [
    {
     "name": "stderr",
     "output_type": "stream",
     "text": [
      "C:\\Users\\Marcos\\Anaconda3\\lib\\site-packages\\h5py\\__init__.py:36: FutureWarning: Conversion of the second argument of issubdtype from `float` to `np.floating` is deprecated. In future, it will be treated as `np.float64 == np.dtype(float).type`.\n",
      "  from ._conv import register_converters as _register_converters\n"
     ]
    }
   ],
   "source": [
    "import numpy as np\n",
    "import tensorflow as tf\n",
    "import matplotlib.pyplot as plt"
   ]
  },
  {
   "cell_type": "markdown",
   "metadata": {},
   "source": [
    "### Creación de dos conjuntos de datos: Datos X y clases Y."
   ]
  },
  {
   "cell_type": "code",
   "execution_count": 3,
   "metadata": {},
   "outputs": [],
   "source": [
    "x_vals = np.concatenate((np.random.normal(-2,1,100), np.random.normal(2,1,100)))\n",
    "y_vals = np.concatenate((np.repeat(0.0,100), np.repeat(1.0,100)))"
   ]
  },
  {
   "cell_type": "markdown",
   "metadata": {},
   "source": [
    "### Función de separación del dataset X en entrenamiento y test"
   ]
  },
  {
   "cell_type": "code",
   "execution_count": 4,
   "metadata": {},
   "outputs": [],
   "source": [
    "size_split = 0.8\n",
    "def train_test_split(x_vals, y_vals):\n",
    "    idx = np.random.choice(len(x_vals),round(len(x_vals)*0.8), replace=False)\n",
    "    train_x = x_vals[idx]\n",
    "    train_y = y_vals[idx]\n",
    "    test_x = x_vals[list(set(range(200))-set(idx))]\n",
    "    test_y = y_vals[list(set(range(200))-set(idx))]\n",
    "                        \n",
    "    return [train_x, train_y, test_x, test_y]"
   ]
  },
  {
   "cell_type": "markdown",
   "metadata": {},
   "source": [
    "### Creacción de un modelo en tensorflow para clasificación"
   ]
  },
  {
   "cell_type": "code",
   "execution_count": 5,
   "metadata": {},
   "outputs": [
    {
     "data": {
      "text/plain": [
       "10.404954"
      ]
     },
     "execution_count": 5,
     "metadata": {},
     "output_type": "execute_result"
    }
   ],
   "source": [
    "#Creamos los placeholdes, esto es, los datos que se van a pasar al optimizador.\n",
    "x_data = tf.placeholder(shape=[None,None], dtype = tf.float32)\n",
    "y_target = tf.placeholder(shape=[None,None], dtype = tf.float32)\n",
    "\n",
    "#La variable de media 10.\n",
    "A = tf.Variable(np.random.normal(10))\n",
    "\n",
    "session = tf.Session()\n",
    "init = tf.global_variables_initializer()\n",
    "session.run(init)\n",
    "session.run(A)"
   ]
  },
  {
   "cell_type": "code",
   "execution_count": 6,
   "metadata": {},
   "outputs": [],
   "source": [
    "#Obtenemos los conjuntos de entrenamiento y test llamando a la función construída.\n",
    "x_train, y_train, x_test, y_test = train_test_split(x_vals, y_vals)"
   ]
  },
  {
   "cell_type": "code",
   "execution_count": 7,
   "metadata": {},
   "outputs": [
    {
     "name": "stdout",
     "output_type": "stream",
     "text": [
      "WARNING:tensorflow:From C:\\Users\\Marcos\\Anaconda3\\lib\\site-packages\\tensorflow\\python\\ops\\nn_impl.py:180: add_dispatch_support.<locals>.wrapper (from tensorflow.python.ops.array_ops) is deprecated and will be removed in a future version.\n",
      "Instructions for updating:\n",
      "Use tf.where in 2.0, which has the same broadcast rule as np.where\n"
     ]
    }
   ],
   "source": [
    "#Creamos el modelo\n",
    "prediction = tf.add(x_data, A) #La predicción es X+A\n",
    "xentropy = tf.reduce_mean(tf.nn.sigmoid_cross_entropy_with_logits(logits = prediction, labels = y_target))\n",
    "opt = tf.train.GradientDescentOptimizer(learning_rate = 0.05)\n",
    "train_step = opt.minimize(xentropy) #Minimizar la función de entropía."
   ]
  },
  {
   "cell_type": "markdown",
   "metadata": {},
   "source": [
    "### Función de predicción"
   ]
  },
  {
   "cell_type": "code",
   "execution_count": null,
   "metadata": {},
   "outputs": [],
   "source": [
    "def predictor(x_data,y_target):\n",
    "    y_prediction = tf.squeeze(tf.round(tf.nn.sigmoid(tf.add(x_data, A))))\n",
    "    correct_prediction = tf.equal(y_prediction, y_target)\n",
    "    accuracy = tf.reduce_mean(tf.cast(correct_prediction, tf.float32))\n",
    "    return accuracy\n",
    "\n",
    "prediction = predictor(x_data, y_target)"
   ]
  },
  {
   "cell_type": "code",
   "execution_count": 29,
   "metadata": {},
   "outputs": [
    {
     "name": "stdout",
     "output_type": "stream",
     "text": [
      "Paso #100 A = 0.10790838 Loss = 0.04662271\n",
      "Paso #200 A = 0.13826163 Loss = 0.08670405\n",
      "Paso #300 A = 0.12480404 Loss = 0.14865524\n",
      "Paso #400 A = 0.13950998 Loss = 0.080314286\n",
      "Paso #500 A = 0.13863172 Loss = 0.047433887\n",
      "Paso #600 A = 0.02659927 Loss = 0.30268085\n",
      "Paso #700 A = 0.0533111 Loss = 0.022723816\n",
      "Paso #800 A = 0.09482984 Loss = 0.18769589\n",
      "Paso #900 A = 0.07789824 Loss = 0.078248575\n",
      "Paso #1000 A = 0.007023323 Loss = 0.22553703\n",
      "Paso #1100 A = 0.13831373 Loss = 0.11004416\n",
      "Paso #1200 A = 0.08122951 Loss = 0.5219979\n",
      "Paso #1300 A = 0.14392963 Loss = 0.050097734\n",
      "Paso #1400 A = 0.19156872 Loss = 0.119358\n",
      "Paso #1500 A = 0.2867215 Loss = 0.48337653\n",
      "Paso #1600 A = 0.21033616 Loss = 0.054230113\n",
      "Paso #1700 A = 0.020299964 Loss = 0.18770088\n",
      "Paso #1800 A = 0.08158967 Loss = 0.11870262\n",
      "Paso #1900 A = 0.13892367 Loss = 0.029927544\n",
      "Paso #2000 A = 0.16664006 Loss = 0.19549806\n"
     ]
    }
   ],
   "source": [
    "#Cuerpo del algoritmo.\n",
    "num_its = 2000\n",
    "batch_size = 1\n",
    "for i in range(num_its):\n",
    "    idx = np.random.choice(len(x_train), batch_size)\n",
    "    x_train_selected = [x_train[idx]]\n",
    "    y_train_selected = [y_train[idx]]\n",
    "    session.run(train_step, feed_dict={x_data: x_train_selected, y_target: y_train_selected})\n",
    "    if (i+1)%100 == 0:\n",
    "        print(\"Paso #\"+str(i+1)+\n",
    "              \" A = \"+str(session.run(A))+\n",
    "              \" Loss = \"+str(session.run(xentropy, feed_dict={x_data: x_train_selected, y_target: y_train_selected})))\n",
    "    "
   ]
  },
  {
   "cell_type": "markdown",
   "metadata": {},
   "source": [
    "### Evaluación del modelo de clasificación"
   ]
  },
  {
   "cell_type": "code",
   "execution_count": 30,
   "metadata": {},
   "outputs": [
    {
     "name": "stdout",
     "output_type": "stream",
     "text": [
      "Accuracy on training 0.99375\n",
      "Accuracy on testing 0.95\n"
     ]
    }
   ],
   "source": [
    "#La función sigmoid determina tras el resultado si la variable es 0 o 1.\n",
    "#En este caso será de 0 si es negativa y de 1 si es positiva.\n",
    "#Hemos definido la operación como A + x donde A es la variables optimizada en el modelo anterior.\n",
    "y_prediction = tf.squeeze(tf.round(tf.nn.sigmoid(tf.add(x_data, A))))\n",
    "correct_prediction = tf.equal(y_prediction, y_target)\n",
    "accuracy = tf.reduce_mean(tf.cast(correct_prediction, tf.float32))\n",
    "\n",
    "acc_train = session.run(prediction, feed_dict={x_data: [x_train], y_target: [y_train]})\n",
    "acc_test = session.run(prediction, feed_dict={x_data: [x_test], y_target: [y_test]})\n",
    "\n",
    "print(\"Accuracy on training \"+ str(acc_train))\n",
    "print(\"Accuracy on testing \"+ str(acc_test))"
   ]
  },
  {
   "cell_type": "markdown",
   "metadata": {},
   "source": [
    "### Dibujar los datos"
   ]
  },
  {
   "cell_type": "code",
   "execution_count": 23,
   "metadata": {},
   "outputs": [
    {
     "data": {
      "text/plain": [
       "[array([0., 1., 0., 1., 0., 1., 0., 1., 1., 0., 0., 0., 0., 1., 1., 0., 0.,\n",
       "        1., 0., 0., 0., 1., 1., 1., 1., 1., 1., 0., 1., 0., 0., 0., 0., 0.,\n",
       "        0., 1., 1., 1., 1., 1.])]"
      ]
     },
     "execution_count": 23,
     "metadata": {},
     "output_type": "execute_result"
    }
   ],
   "source": [
    "A_result = session.run(A)\n",
    "A_result\n",
    "[y_test]"
   ]
  },
  {
   "cell_type": "code",
   "execution_count": 12,
   "metadata": {},
   "outputs": [
    {
     "data": {
      "text/plain": [
       "Text(0.5,1,'Clasificador binario de precisión 0.99375')"
      ]
     },
     "execution_count": 12,
     "metadata": {},
     "output_type": "execute_result"
    },
    {
     "data": {
      "image/png": "[encoded data removed]",
      "text/plain": [
       "<Figure size 432x288 with 1 Axes>"
      ]
     },
     "metadata": {},
     "output_type": "display_data"
    }
   ],
   "source": [
    "bins = np.linspace(-5,5,50)\n",
    "plt.hist(x_vals[:100], bins, alpha=0.5, label = \"N(-2,1)\", color=\"red\")\n",
    "plt.hist(x_vals[100:200], bins, alpha=0.5, label = \"N(2,1)\", color=\"yellow\")\n",
    "plt.plot((A_result, A_result), (0,10), 'k--', linewidth=3, label = \"A \"+ str(np.round(A_result,2)))\n",
    "plt.legend(loc=\"upper right\")\n",
    "plt.title(\"Clasificador binario de precisión \"+ str(acc_train))"
   ]
  },
  {
   "cell_type": "code",
   "execution_count": 28,
   "metadata": {},
   "outputs": [
    {
     "data": {
      "text/plain": [
       "1.0"
      ]
     },
     "execution_count": 28,
     "metadata": {},
     "output_type": "execute_result"
    }
   ],
   "source": []
  },
  {
   "cell_type": "markdown",
   "metadata": {},
   "source": [
    "### Realizar una predicción"
   ]
  },
  {
   "cell_type": "code",
   "execution_count": 32,
   "metadata": {},
   "outputs": [
    {
     "data": {
      "text/plain": [
       "1.0"
      ]
     },
     "execution_count": 32,
     "metadata": {},
     "output_type": "execute_result"
    }
   ],
   "source": [
    "y_prediction = tf.squeeze(tf.round(tf.nn.sigmoid(tf.add(x_data, A))))\n",
    "correct_prediction = tf.equal(y_prediction, y_target)\n",
    "\n",
    "session.run(y_prediction, feed_dict={x_data:[np.array([0.1])]})\n"
   ]
  }
 ],
 "metadata": {
  "kernelspec": {
   "display_name": "Python 3",
   "language": "python",
   "name": "python3"
  },
  "language_info": {
   "codemirror_mode": {
    "name": "ipython",
    "version": 3
   },
   "file_extension": ".py",
   "mimetype": "text/x-python",
   "name": "python",
   "nbconvert_exporter": "python",
   "pygments_lexer": "ipython3",
   "version": "3.6.5"
  }
 },
 "nbformat": 4,
 "nbformat_minor": 2
}
