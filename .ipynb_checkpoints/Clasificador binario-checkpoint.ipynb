{
 "cells": [
  {
   "cell_type": "code",
   "execution_count": 117,
   "metadata": {},
   "outputs": [],
   "source": [
    "import numpy as np\n",
    "import tensorflow as tf\n",
    "import matplotlib.pyplot as plt"
   ]
  },
  {
   "cell_type": "markdown",
   "metadata": {},
   "source": [
    "### Creación de dos conjuntos de datos: Datos X y clases Y."
   ]
  },
  {
   "cell_type": "code",
   "execution_count": 14,
   "metadata": {},
   "outputs": [],
   "source": [
    "x_vals = np.concatenate((np.random.normal(-2,1,100), np.random.normal(2,1,100)))\n",
    "y_vals = np.concatenate((np.repeat(0.0,100), np.repeat(1.0,100)))"
   ]
  },
  {
   "cell_type": "markdown",
   "metadata": {},
   "source": [
    "### Función de separación del dataset X en entrenamiento y test"
   ]
  },
  {
   "cell_type": "code",
   "execution_count": 62,
   "metadata": {},
   "outputs": [],
   "source": [
    "size_split = 0.8\n",
    "def train_test_split(x_vals, y_vals):\n",
    "    idx = np.random.choice(len(x_vals),round(len(x_vals)*0.8), replace=False)\n",
    "    train_x = x_vals[idx]\n",
    "    train_y = y_vals[idx]\n",
    "    test_x = x_vals[list(set(range(200))-set(idx))]\n",
    "    test_y = y_vals[list(set(range(200))-set(idx))]\n",
    "                        \n",
    "    return [train_x, train_y, test_x, test_y]"
   ]
  },
  {
   "cell_type": "markdown",
   "metadata": {},
   "source": [
    "### Creacción de un modelo en tensorflow para clasificación"
   ]
  },
  {
   "cell_type": "code",
   "execution_count": 96,
   "metadata": {},
   "outputs": [
    {
     "data": {
      "text/plain": [
       "10.902236"
      ]
     },
     "execution_count": 96,
     "metadata": {},
     "output_type": "execute_result"
    }
   ],
   "source": [
    "#Creamos los placeholdes, esto es, los datos que se van a pasar al optimizador.\n",
    "x_data = tf.placeholder(shape=[None,None], dtype = tf.float32)\n",
    "y_target = tf.placeholder(shape=[None,None], dtype = tf.float32)\n",
    "\n",
    "#La variable de media 10.\n",
    "A = tf.Variable(np.random.normal(10))\n",
    "\n",
    "session = tf.Session()\n",
    "init = tf.global_variables_initializer()\n",
    "session.run(init)\n",
    "session.run(A)"
   ]
  },
  {
   "cell_type": "code",
   "execution_count": 97,
   "metadata": {},
   "outputs": [],
   "source": [
    "#Obtenemos los conjuntos de entrenamiento y test llamando a la función construída.\n",
    "x_train, y_train, x_test, y_test = train_test_split(x_vals, y_vals)"
   ]
  },
  {
   "cell_type": "code",
   "execution_count": 98,
   "metadata": {},
   "outputs": [],
   "source": [
    "#Creamos el modelo\n",
    "prediction = tf.add(x_data, A) #La predicción es X+A\n",
    "xentropy = tf.reduce_mean(tf.nn.sigmoid_cross_entropy_with_logits(logits = prediction, labels = y_target))\n",
    "opt = tf.train.GradientDescentOptimizer(learning_rate = 0.05)\n",
    "train_step = opt.minimize(xentropy) #Minimizar la función de entropía."
   ]
  },
  {
   "cell_type": "code",
   "execution_count": 105,
   "metadata": {},
   "outputs": [
    {
     "name": "stdout",
     "output_type": "stream",
     "text": [
      "Paso #100 A = -0.020983126 Loss = 0.3322106\n",
      "Paso #200 A = -0.01308325 Loss = 0.20008771\n",
      "Paso #300 A = -0.00040116976 Loss = 0.047459126\n",
      "Paso #400 A = 0.055786446 Loss = 0.039918285\n",
      "Paso #500 A = 0.09896013 Loss = 0.41320542\n",
      "Paso #600 A = 0.09980893 Loss = 0.032559577\n",
      "Paso #700 A = 0.112095736 Loss = 0.14233184\n",
      "Paso #800 A = 0.096479096 Loss = 0.13900031\n",
      "Paso #900 A = 0.12615173 Loss = 0.13403864\n",
      "Paso #1000 A = 0.0770494 Loss = 0.036227312\n",
      "Paso #1100 A = 0.12469598 Loss = 0.1300996\n",
      "Paso #1200 A = 0.10700914 Loss = 0.23037635\n",
      "Paso #1300 A = -0.046669148 Loss = 0.3557272\n",
      "Paso #1400 A = -0.054218173 Loss = 0.38107017\n",
      "Paso #1500 A = -0.05721 Loss = 0.055086445\n",
      "Paso #1600 A = 0.12990278 Loss = 0.10356875\n",
      "Paso #1700 A = 0.25655743 Loss = 0.07406026\n",
      "Paso #1800 A = 0.094064705 Loss = 0.047514077\n",
      "Paso #1900 A = 0.088717915 Loss = 0.10408292\n",
      "Paso #2000 A = 0.1339455 Loss = 0.14950086\n"
     ]
    }
   ],
   "source": [
    "#Cuerpo del algoritmo.\n",
    "num_its = 2000\n",
    "batch_size = 1\n",
    "for i in range(num_its):\n",
    "    idx = np.random.choice(len(x_train), batch_size)\n",
    "    x_train_selected = [x_train[idx]]\n",
    "    y_train_selected = [y_train[idx]]\n",
    "    session.run(train_step, feed_dict={x_data: x_train_selected, y_target: y_train_selected})\n",
    "    if (i+1)%100 == 0:\n",
    "        print(\"Paso #\"+str(i+1)+\n",
    "              \" A = \"+str(session.run(A))+\n",
    "              \" Loss = \"+str(session.run(xentropy, feed_dict={x_data: x_train_selected, y_target: y_train_selected})))\n",
    "    "
   ]
  },
  {
   "cell_type": "markdown",
   "metadata": {},
   "source": [
    "### Evaluación del modelo de clasificación"
   ]
  },
  {
   "cell_type": "code",
   "execution_count": 106,
   "metadata": {},
   "outputs": [
    {
     "name": "stdout",
     "output_type": "stream",
     "text": [
      "Accuracy on training 0.9875\n",
      "Accuracy on testing 0.95\n"
     ]
    }
   ],
   "source": [
    "#La función sigmoid determina tras el resultado si la variable es 0 o 1.\n",
    "#En este caso será de 0 si es negativa y de 1 si es positiva.\n",
    "#Hemos definido la operación como A + x donde A es la variables optimizada en el modelo anterior.\n",
    "y_prediction = tf.squeeze(tf.round(tf.nn.sigmoid(tf.add(x_data, A))))\n",
    "correct_prediction = tf.equal(y_prediction, y_target)\n",
    "accuracy = tf.reduce_mean(tf.cast(correct_prediction, tf.float32))\n",
    "\n",
    "acc_train = session.run(accuracy, feed_dict={x_data: [x_train], y_target: [y_train]})\n",
    "acc_test = session.run(accuracy, feed_dict={x_data: [x_test], y_target: [y_test]})\n",
    "\n",
    "print(\"Accuracy on training \"+ str(acc_train))\n",
    "print(\"Accuracy on testing \"+ str(acc_test))"
   ]
  },
  {
   "cell_type": "markdown",
   "metadata": {},
   "source": [
    "### Dibujar los datos"
   ]
  },
  {
   "cell_type": "code",
   "execution_count": 113,
   "metadata": {},
   "outputs": [
    {
     "data": {
      "text/plain": [
       "0.1339455"
      ]
     },
     "execution_count": 113,
     "metadata": {},
     "output_type": "execute_result"
    }
   ],
   "source": [
    "A_result = session.run(A)\n",
    "A_result"
   ]
  },
  {
   "cell_type": "code",
   "execution_count": 119,
   "metadata": {},
   "outputs": [
    {
     "data": {
      "text/plain": [
       "Text(0.5, 1.0, 'Clasificador binario de precisión 0.9875')"
      ]
     },
     "execution_count": 119,
     "metadata": {},
     "output_type": "execute_result"
    },
    {
     "data": {
      "image/png": "[encoded data removed]",
      "text/plain": [
       "<Figure size 432x288 with 1 Axes>"
      ]
     },
     "metadata": {
      "needs_background": "light"
     },
     "output_type": "display_data"
    }
   ],
   "source": [
    "bins = np.linspace(-5,5,50)\n",
    "plt.hist(x_vals[:100], bins, alpha=0.5, label = \"N(-2,1)\", color=\"red\")\n",
    "plt.hist(x_vals[100:200], bins, alpha=0.5, label = \"N(2,1)\", color=\"yellow\")\n",
    "plt.plot((A_result, A_result), (0,10), 'k--', linewidth=3, label = \"A \"+ str(np.round(A_result,2)))\n",
    "plt.legend(loc=\"upper right\")\n",
    "plt.title(\"Clasificador binario de precisión \"+ str(acc_train))"
   ]
  },
  {
   "cell_type": "code",
   "execution_count": 162,
   "metadata": {},
   "outputs": [
    {
     "data": {
      "text/plain": [
       "0.0"
      ]
     },
     "execution_count": 162,
     "metadata": {},
     "output_type": "execute_result"
    }
   ],
   "source": [
    "op = tf.add(A, x_data)\n",
    "\n",
    "y_prediction = tf.squeeze(tf.round(tf.nn.sigmoid(tf.add(x_data, A))))\n",
    "correct_prediction = tf.equal(y_prediction, y_target)\n",
    "\n",
    "session.run(y_prediction, feed_dict={x_data:[np.array([-1])]})"
   ]
  },
  {
   "cell_type": "code",
   "execution_count": 149,
   "metadata": {},
   "outputs": [
    {
     "data": {
      "text/plain": [
       "array([-0.2988508 ,  2.41983059, -0.1139736 , -0.42670987, -1.67180738,\n",
       "        2.22019651, -1.4406766 , -1.62169049,  0.47628915, -2.97613285,\n",
       "       -2.40297673,  2.05278344, -3.63161488, -3.93695675,  2.4057312 ,\n",
       "       -1.15430873,  2.59731086, -2.30589615, -2.47017137,  2.80382102,\n",
       "       -1.94193167,  0.5462651 ,  2.52940118, -3.67084545, -1.62499189,\n",
       "        2.20367704,  2.53747211, -1.37134656,  2.03787762,  2.87133775,\n",
       "       -2.31705567, -2.61298793,  1.12388664, -1.65809078, -2.29904546,\n",
       "       -2.5334231 , -2.96917957,  3.44949067,  1.11750961,  2.97517598])"
      ]
     },
     "execution_count": 149,
     "metadata": {},
     "output_type": "execute_result"
    }
   ],
   "source": [
    "x_test"
   ]
  },
  {
   "cell_type": "code",
   "execution_count": 151,
   "metadata": {},
   "outputs": [
    {
     "data": {
      "text/plain": [
       "[array([2])]"
      ]
     },
     "execution_count": 151,
     "metadata": {},
     "output_type": "execute_result"
    }
   ],
   "source": [
    "[np.array([2])]"
   ]
  }
 ],
 "metadata": {
  "kernelspec": {
   "display_name": "Python 3",
   "language": "python",
   "name": "python3"
  },
  "language_info": {
   "codemirror_mode": {
    "name": "ipython",
    "version": 3
   },
   "file_extension": ".py",
   "mimetype": "text/x-python",
   "name": "python",
   "nbconvert_exporter": "python",
   "pygments_lexer": "ipython3",
   "version": "3.6.5"
  }
 },
 "nbformat": 4,
 "nbformat_minor": 2
}
